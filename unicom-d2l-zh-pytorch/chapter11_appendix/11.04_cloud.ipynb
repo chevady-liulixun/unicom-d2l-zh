{
 "cells": [
  {
   "cell_type": "markdown",
   "metadata": {},
   "source": [
    "# 使用阿里云运行代码\n",
    "\n",
    "当本地机器的计算资源有限时，可以通过云计算服务获取更强大的计算资源来运行本书中的深度学习代码。本节将介绍如何在阿里云的ECS云服务上申请实例并通过Jupyter记事本运行代码。本节中的例子有如下两个步骤。\n",
    "\n",
    "1. 申请含一个NVIDIA P4 GPU的ecs.gn5i-c2g1.large实例。\n",
    "2. 安装CUDA及相应GPU版本的PyTorch。\n",
    "\n",
    "申请其他类型的实例或安装其他版本的MXNet的方法与本节类似。\n",
    "\n",
    "\n",
    "## 申请账号并登陆\n",
    "\n",
    "首先，我们需要在[阿里云官方网站](https://www.aliyun.com/)上创建账号。这通常需要一个支付宝账号。\n",
    "\n",
    "登录阿里云账号后，点击图11.8红框中的“ECS”进入ECS面板。\n",
    "\n",
    "\n",
    "## 创建并运行ECS实例\n",
    "\n"
   ]
  },
  {
   "cell_type": "markdown",
   "metadata": {},
   "source": [
    "\n",
    "## 选择安装CUDA"
   ]
  },
  {
   "cell_type": "markdown",
   "metadata": {},
   "source": [
    "## 安装PyTorch运行环境并获取本书的代码"
   ]
  },
  {
   "cell_type": "markdown",
   "metadata": {},
   "source": [
    "## 运行Jupyter记事本\n",
    "\n",
    "现在就可以运行Jupyter记事本了："
   ]
  },
  {
   "cell_type": "markdown",
   "metadata": {},
   "source": [
    "## 关闭不使用的实例\n",
    "\n",
    "\n",
    "\n",
    "## 小结\n",
    "\n",
    "* 可以通过云计算服务获取更强大的计算资源来运行本书中的深度学习代码。\n",
    "\n",
    "## 练习\n",
    "\n",
    "* 云很方便，但不便宜。研究一下它的价格，看看如何节省开销。"
   ]
  },
  {
   "cell_type": "code",
   "execution_count": null,
   "metadata": {},
   "outputs": [],
   "source": []
  }
 ],
 "metadata": {
  "kernelspec": {
   "display_name": "Python 3",
   "language": "python",
   "name": "python3"
  },
  "language_info": {
   "codemirror_mode": {
    "name": "ipython",
    "version": 3
   },
   "file_extension": ".py",
   "mimetype": "text/x-python",
   "name": "python",
   "nbconvert_exporter": "python",
   "pygments_lexer": "ipython3",
   "version": "3.7.3"
  }
 },
 "nbformat": 4,
 "nbformat_minor": 2
}
