{
 "cells": [
  {
   "cell_type": "markdown",
   "metadata": {},
   "source": [
    "# 2.4查阅文档\n",
    "\n",
    "受篇幅所限，本书无法对所有用到的PyTorch函数和类一一详细介绍。读者可以查阅相关文档来做更深入的了解。\n",
    "\n",
    "## 2.4.1查找模块里的所有函数和类\n",
    "\n",
    "当我们想知道一个模块里面提供了哪些可以调用的函数和类的时候，可以使用`dir`函数。下面我们打印`torch.random`模块中所有的成员或属性。"
   ]
  },
  {
   "cell_type": "code",
   "execution_count": 2,
   "metadata": {
    "ExecuteTime": {
     "end_time": "2019-11-07T05:27:54.251187Z",
     "start_time": "2019-11-07T05:27:51.235916Z"
    }
   },
   "outputs": [
    {
     "name": "stdout",
     "output_type": "stream",
     "text": [
      "['__builtins__', '__cached__', '__doc__', '__file__', '__loader__', '__name__', '__package__', '__spec__', '_fork_rng_warned_already', 'contextlib', 'default_generator', 'fork_rng', 'get_rng_state', 'initial_seed', 'manual_seed', 'seed', 'set_rng_state', 'warnings']\n"
     ]
    }
   ],
   "source": [
    "import torch\n",
    "\n",
    "print(dir(torch.random))"
   ]
  },
  {
   "cell_type": "markdown",
   "metadata": {},
   "source": [
    "通常我们可以忽略掉由`__`开头和结尾的函数（Python的特别对象）或者由`_`开头的函数（一般为内部函数）。这个模块提供了随机数的生成器（RNG--Random number generator）。\n",
    "\n",
    "## 2.4.2查找特定函数和类的使用\n",
    "\n",
    "想了解某个函数或者类的具体用法时，可以使用`help`函数。让我们以`NDArray`中的`ones_like`函数为例，查阅它的用法。"
   ]
  },
  {
   "cell_type": "code",
   "execution_count": 6,
   "metadata": {
    "ExecuteTime": {
     "end_time": "2019-11-07T05:32:06.723905Z",
     "start_time": "2019-11-07T05:32:06.694190Z"
    }
   },
   "outputs": [
    {
     "name": "stdout",
     "output_type": "stream",
     "text": [
      "Help on built-in function ones_like:\n",
      "\n",
      "ones_like(...)\n",
      "    ones_like(input, dtype=None, layout=None, device=None, requires_grad=False) -> Tensor\n",
      "    \n",
      "    Returns a tensor filled with the scalar value `1`, with the same size as\n",
      "    :attr:`input`. ``torch.ones_like(input)`` is equivalent to\n",
      "    ``torch.ones(input.size(), dtype=input.dtype, layout=input.layout, device=input.device)``.\n",
      "    \n",
      "    .. warning::\n",
      "        As of 0.4, this function does not support an :attr:`out` keyword. As an alternative,\n",
      "        the old ``torch.ones_like(input, out=output)`` is equivalent to\n",
      "        ``torch.ones(input.size(), out=output)``.\n",
      "    \n",
      "    Args:\n",
      "        input (Tensor): the size of :attr:`input` will determine size of the output tensor.\n",
      "        dtype (:class:`torch.dtype`, optional): the desired data type of returned Tensor.\n",
      "            Default: if ``None``, defaults to the dtype of :attr:`input`.\n",
      "        layout (:class:`torch.layout`, optional): the desired layout of returned tensor.\n",
      "            Default: if ``None``, defaults to the layout of :attr:`input`.\n",
      "        device (:class:`torch.device`, optional): the desired device of returned tensor.\n",
      "            Default: if ``None``, defaults to the device of :attr:`input`.\n",
      "        requires_grad (bool, optional): If autograd should record operations on the\n",
      "            returned tensor. Default: ``False``.\n",
      "    \n",
      "    Example::\n",
      "    \n",
      "        >>> input = torch.empty(2, 3)\n",
      "        >>> torch.ones_like(input)\n",
      "        tensor([[ 1.,  1.,  1.],\n",
      "                [ 1.,  1.,  1.]])\n",
      "\n"
     ]
    }
   ],
   "source": [
    "help(torch.ones_like)"
   ]
  },
  {
   "cell_type": "markdown",
   "metadata": {},
   "source": [
    "从文档信息我们了解到，`ones_like`函数会创建和输入`Tensor`形状相同且元素为1的新`Tensor`。我们可以验证一下："
   ]
  },
  {
   "cell_type": "code",
   "execution_count": 11,
   "metadata": {
    "ExecuteTime": {
     "end_time": "2019-11-07T05:33:12.575092Z",
     "start_time": "2019-11-07T05:33:12.541779Z"
    }
   },
   "outputs": [
    {
     "name": "stdout",
     "output_type": "stream",
     "text": [
      "tensor([[0, 0, 0],\n",
      "        [2, 2, 2]])\n",
      "tensor([[1, 1, 1],\n",
      "        [1, 1, 1]])\n"
     ]
    }
   ],
   "source": [
    "x = torch.tensor([[0, 0, 0], [2, 2, 2]])\n",
    "y = torch.ones_like(x)\n",
    "print(x)\n",
    "print(y)"
   ]
  },
  {
   "cell_type": "markdown",
   "metadata": {},
   "source": [
    "在Jupyter记事本里，我们可以使用`?`来将文档显示在另外一个窗口中。例如，使用`torch.Tensor.uniform_?`将得到与`help(torch.Tensor.uniform_)`几乎一样的内容，但会显示在额外窗口里。此外，如果使用`torch.Tensor.uniform_??`，那么会额外显示该函数实现的代码。\n",
    "\n",
    "\n",
    "## 在PyTorch 网站上查阅\n",
    "\n",
    "读者也可以在PyTorch的网站上查阅相关文档。访问PyTorch网站 [https://pytorch.org/](https://pytorch.org/) （如图2.1所示☟），点击网页顶部的菜单“Docs”可查阅各个前端语言的接口。此外，也可以在网页右上方“搜索”图标，打开搜索框直接搜索函数或类名称。\n",
    "\n",
    "![PyTorch官方网站](../img/chapter02/pytorch-website.png)\n",
    "\n",
    "PyTorch官方网站也有中文版本的文档，也可以提供查阅。☟\n",
    "\n",
    "![PyTorch官方中文文档](../img/chapter02/chinese-doc.png)\n",
    "\n",
    "图2.2展示了PyTorch 网站上有关`ones_like`函数的文档。☟\n",
    "\n",
    "![PyTorch网站上有关`ones_like`函数的文档](../img/chapter02/oneslike.png)\n",
    "\n",
    "中文文档中的`ones_like`函数文档。☟\n",
    "\n",
    "![PyTorch网站上有关`ones_like`函数的中文文档](../img/chapter02/oneslike-zh.png)\n"
   ]
  },
  {
   "cell_type": "markdown",
   "metadata": {},
   "source": [
    "## 小结\n",
    "\n",
    "* 遇到不熟悉的PyTorch  API时，可以主动查阅它的相关文档。\n",
    "* 查阅PyTorch文档可以使用`dir`和`help`函数，或访问PyTorch官方网站。"
   ]
  },
  {
   "cell_type": "markdown",
   "metadata": {},
   "source": [
    "## 练习\n",
    "\n",
    "* 查阅`PyTorch`支持的其他操作。"
   ]
  },
  {
   "cell_type": "markdown",
   "metadata": {},
   "source": [
    "## 扫码直达[知乎专栏](https://zhuanlan.zhihu.com/unicom-d2l)\n",
    "\n",
    "![](../img/zhihu.png)"
   ]
  }
 ],
 "metadata": {
  "kernelspec": {
   "display_name": "Python 3",
   "language": "python",
   "name": "python3"
  },
  "language_info": {
   "codemirror_mode": {
    "name": "ipython",
    "version": 3
   },
   "file_extension": ".py",
   "mimetype": "text/x-python",
   "name": "python",
   "nbconvert_exporter": "python",
   "pygments_lexer": "ipython3",
   "version": "3.7.4"
  }
 },
 "nbformat": 4,
 "nbformat_minor": 2
}
