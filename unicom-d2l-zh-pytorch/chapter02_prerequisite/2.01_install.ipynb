{
 "cells": [
  {
   "cell_type": "markdown",
   "metadata": {},
   "source": [
    "# 获取和运行本书的代码\n",
    "\n",
    "本节将介绍如何获取本书的代码和安装运行代码所依赖的软件。虽然跳过本节不会影响后面的阅读，但我们还是强烈建议读者按照下面的步骤来动手操作一遍。本书大部分章节的练习都涉及改动代码并观察运行结果。因此，本节是完成这些练习的基础。\n",
    "\n",
    "## 获取代码并安装运行环境\n",
    "\n",
    "本书的内容和代码均可在网上免费获取。我们推荐使用conda来安装运行代码所依赖的软件。conda是一个流行的Python包管理软件。Windows和Linux/macOS用户可分别参照以下步骤。\n",
    "\n",
    "### Windows用户\n",
    "\n",
    "第一次运行需要完整完成下面5个步骤。如果是再次运行，可以忽略前面3步的下载和安装，直接跳转到第四步和第五步。\n",
    "\n",
    "第一步是根据操作系统下载并安装[Miniconda](https://conda.io/en/master/miniconda.html)，在安装过程中需要勾选“Add Anaconda to the system PATH environment variable”选项（如当conda版本为4.6.14时）。\n",
    "\n",
    "第二步是使用conda创建虚拟（运行）环境。安装一些必要的软件：☟\n",
    "\n",
    "①进入含有conda的命令行界面，比如Anaconda Prompt、cmd和ConEmu等；\n",
    "②安装matplotlib:\n",
    "```\n",
    "conda install matplotlib\n",
    "```\n",
    "③jupyter notebook\n",
    "```\n",
    "conda install jupyter notebook\n",
    "```\n",
    "及其Markdown插件（可选）\n",
    "```\n",
    "pip install https://github.com/mli/notedown/tarball/master\n",
    "```\n",
    "④安装Pytorch\n",
    "```\n",
    "pip install torch==1.3.0+cpu torchvision==0.4.1+cpu -f https://download.pytorch.org/whl/torch_stable.html\n",
    "\n",
    "pip install torchtext\n",
    "```\n",
    "第三步是下载包含本书全部代码的压缩包。我们可以在浏览器的地址栏中输入 https://github.com/chevady-liulixun/unicom-d2l-zh/archive/master.zip 并按回车键进行下载。下载完成后，创建文件夹“d2l-zh-pytorch”并将以上压缩包解压到这个文件夹。在该目录文件资源管理器的地址栏输入`cmd`进入命令行模式。"
   ]
  },
  {
   "cell_type": "markdown",
   "metadata": {},
   "source": [
    "如果conda安装缓慢，可以[配置清华conda镜像](https://mirrors.tuna.tsinghua.edu.cn/help/anaconda/)。"
   ]
  },
  {
   "cell_type": "markdown",
   "metadata": {},
   "source": [
    "```\n",
    "# 配置清华PyPI镜像（如无法运行，将pip版本升级到>=10.0.0）\n",
    "pip config set global.index-url https://pypi.tuna.tsinghua.edu.cn/simple\n",
    "```\n"
   ]
  },
  {
   "cell_type": "markdown",
   "metadata": {},
   "source": [
    "若使用国内镜像后出现安装错误，首先取消PyPI镜像配置，即执行命令`pip config unset global.index-url`。然后重试命令`conda env create -f environment.yml`。\n",
    "\n",
    "第四步是下载本书的源代码，可以到 https://github.com/chevady-liulixun/unicom-d2l-zh 上用git克隆或直接下载zip打包文件。"
   ]
  },
  {
   "cell_type": "markdown",
   "metadata": {},
   "source": [
    "第五步是打开Jupyter记事本。"
   ]
  },
  {
   "cell_type": "markdown",
   "metadata": {},
   "source": [
    "```\n",
    "jupyter notebook\n",
    "```\n"
   ]
  },
  {
   "cell_type": "markdown",
   "metadata": {},
   "source": [
    "这时在浏览器打开 http://localhost:8888 （通常会自动打开）就可以查看和运行本书中每一节的代码了。\n",
    "\n",
    "本书中若干章节的代码会自动下载数据集和预训练模型，并默认使用美国站点下载。我们可以在运行Jupyter的时候，它会指出下载源和本地目标地址。我们可以复制下载链接，另行下载后在放入提示的目标目录即可。"
   ]
  },
  {
   "cell_type": "markdown",
   "metadata": {},
   "source": [
    "### Linux/macOS用户\n",
    "\n",
    "第一步是根据操作系统下载[Miniconda](https://conda.io/miniconda.html)，它是一个sh文件。打开Terminal应用进入命令行来执行这个sh文件，例如："
   ]
  },
  {
   "cell_type": "markdown",
   "metadata": {},
   "source": [
    "```\n",
    "# 以Miniconda官方网站上的安装文件名为准\n",
    "sh Miniconda3-latest-Linux-x86_64.sh\n",
    "```\n"
   ]
  },
  {
   "cell_type": "markdown",
   "metadata": {},
   "source": [
    "安装时会显示使用条款，按“↓”继续阅读，按“Q”退出阅读。之后需要回答下面几个问题（如当conda版本为4.6.14时）："
   ]
  },
  {
   "cell_type": "markdown",
   "metadata": {},
   "source": [
    "```\n",
    "Do you accept the license terms? [yes|no]\n",
    "[no] >>> yes\n",
    "Do you wish the installer to initialize Miniconda3\n",
    "by running conda init? [yes|no]\n",
    "[no] >>> yes\n",
    "```\n"
   ]
  },
  {
   "cell_type": "markdown",
   "metadata": {},
   "source": [
    "安装完成后，需要让conda生效。Linux用户需要运行一次`source ~/.bashrc`或重启命令行应用；macOS用户需要运行一次`source ~/.bash_profile`或重启命令行应用。"
   ]
  },
  {
   "cell_type": "markdown",
   "metadata": {},
   "source": [
    "第二步至第五步可参考前面Windows下的安装步骤。若conda版本低于4.4，其中第四步需将命令替换为`source activate gluon`，并使用命令`source deactivate`退出虚拟环境。\n",
    "\n",
    "## 更新代码和运行环境\n",
    "\n",
    "为了适应深度学习和PyTorch的快速发展，本书的开源内容将定期发布新版本。我们推荐大家定期更新本书的开源内容（如代码）和相应的运行环境（如新版PyTorch）。以下是更新的具体步骤。\n",
    "\n",
    "第一步是更新运行环境。\n",
    "\n",
    "第二步是重新下载最新的包含本书全部代码的压缩包。下载地址为 https://github.com/chevady-liulixun/unicom-d2l-zh/archive/master.zip 。解压后进入文件夹“d2l-zh-pytorch”。"
   ]
  },
  {
   "cell_type": "markdown",
   "metadata": {},
   "source": [
    "## 使用GPU版的PyTorch\n",
    "\n",
    "通过前面介绍的方式安装的PyTorch只支持CPU计算。本书中部分章节需要或推荐使用GPU来运行。如果你的计算机上有NVIDIA显卡并安装了CUDA，建议使用GPU版的MXNet。\n",
    "\n",
    "第一步是卸载CPU版本PyTorch。如果没有安装虚拟环境，可以跳过此步。如果已安装虚拟环境，需要先激活该环境，再卸载CPU版本的PyTorch。"
   ]
  },
  {
   "cell_type": "markdown",
   "metadata": {},
   "source": [
    "```\n",
    "conda uninstall PyTorch\n",
    "```\n"
   ]
  },
  {
   "cell_type": "markdown",
   "metadata": {},
   "source": [
    "然后退出虚拟环境。\n",
    "\n",
    "第二步是更新依赖为GPU版本的MXNet。使用文本编辑器打开本书的代码所在根目录下的文件`environment.yml`，将里面的字符串“mxnet”替换成对应的GPU版本。例如，如果计算机上装的是8.0版本的CUDA，将该文件中的字符串“mxnet”改为“mxnet-cu80”。如果计算机上安装了其他版本的CUDA（如7.5、9.0、9.2等），对该文件中的字符串“mxnet”做类似修改（如改为“mxnet-cu75”“mxnet-cu90”“mxnet-cu92”等）。保存文件后退出。\n",
    "\n",
    "第三步是更新虚拟环境，执行命令"
   ]
  },
  {
   "cell_type": "markdown",
   "metadata": {},
   "source": [
    "```\n",
    "conda env update -f environment.yml\n",
    "```\n"
   ]
  },
  {
   "cell_type": "markdown",
   "metadata": {},
   "source": [
    "之后，我们只需要再激活安装环境就可以使用GPU版的PyTorch运行本书中的代码了。需要提醒的是，如果之后下载了新代码，那么还需要重复这3步操作以使用GPU版的PyTorch。\n",
    "\n",
    "\n",
    "## 小结\n",
    "\n",
    "* 为了能够动手学深度学习，需要获取本书的代码并安装运行环境。\n",
    "* 建议大家定期更新代码和运行环境。\n",
    "\n",
    "\n",
    "## 练习\n",
    "\n",
    "* 获取本书的代码并在Windows下安装一个虚拟机Linux运行环境。\n"
   ]
  }
 ],
 "metadata": {
  "kernelspec": {
   "display_name": "Python 3",
   "language": "python",
   "name": "python3"
  },
  "language_info": {
   "codemirror_mode": {
    "name": "ipython",
    "version": 3
   },
   "file_extension": ".py",
   "mimetype": "text/x-python",
   "name": "python",
   "nbconvert_exporter": "python",
   "pygments_lexer": "ipython3",
   "version": "3.7.3"
  }
 },
 "nbformat": 4,
 "nbformat_minor": 2
}
