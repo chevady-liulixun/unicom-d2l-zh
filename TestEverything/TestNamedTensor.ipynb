{
 "cells": [
  {
   "cell_type": "code",
   "execution_count": 1,
   "metadata": {
    "ExecuteTime": {
     "end_time": "2019-10-13T13:29:44.959445Z",
     "start_time": "2019-10-13T13:29:42.076343Z"
    }
   },
   "outputs": [
    {
     "name": "stdout",
     "output_type": "stream",
     "text": [
      "1.3.0+cpu\n"
     ]
    }
   ],
   "source": [
    "import torch\n",
    "\n",
    "torch.manual_seed(0) # 生成随机数用的种子\n",
    "torch.cuda.manual_seed(0)\n",
    "print(torch.__version__)"
   ]
  },
  {
   "cell_type": "code",
   "execution_count": 4,
   "metadata": {
    "ExecuteTime": {
     "end_time": "2019-10-13T13:32:06.827372Z",
     "start_time": "2019-10-13T13:32:06.794503Z"
    }
   },
   "outputs": [
    {
     "name": "stdout",
     "output_type": "stream",
     "text": [
      "tensor([[0., 0., 0.],\n",
      "        [0., 0., 0.]], names=('N', 'C'))\n"
     ]
    }
   ],
   "source": [
    "x = torch.zeros(2, 3, names=('N', 'C'))\n",
    "print(x)"
   ]
  },
  {
   "cell_type": "code",
   "execution_count": 5,
   "metadata": {
    "ExecuteTime": {
     "end_time": "2019-10-13T13:32:16.769317Z",
     "start_time": "2019-10-13T13:32:16.751366Z"
    }
   },
   "outputs": [
    {
     "data": {
      "text/plain": [
       "('N', 'C')"
      ]
     },
     "execution_count": 5,
     "metadata": {},
     "output_type": "execute_result"
    }
   ],
   "source": [
    "x.names"
   ]
  },
  {
   "cell_type": "code",
   "execution_count": 6,
   "metadata": {
    "ExecuteTime": {
     "end_time": "2019-10-13T13:36:54.777178Z",
     "start_time": "2019-10-13T13:36:54.703375Z"
    }
   },
   "outputs": [
    {
     "data": {
      "text/plain": [
       "tensor([-0.4033, -0.8380, -0.7193])"
      ]
     },
     "execution_count": 6,
     "metadata": {},
     "output_type": "execute_result"
    }
   ],
   "source": [
    "x = torch.randn(3, names=('D',))\n",
    "weight = torch.randn(3, names=('D',), requires_grad=True)\n",
    "loss = (x - weight).abs()\n",
    "grad_loss = torch.randn(3)\n",
    "loss.backward(grad_loss)\n",
    "weight.grad  # Unnamed for now. Will be named in the future"
   ]
  },
  {
   "cell_type": "code",
   "execution_count": 7,
   "metadata": {
    "ExecuteTime": {
     "end_time": "2019-10-13T13:37:10.939794Z",
     "start_time": "2019-10-13T13:37:10.902892Z"
    }
   },
   "outputs": [
    {
     "name": "stderr",
     "output_type": "stream",
     "text": [
      "..\\torch\\csrc\\autograd\\python_engine.cpp:142: UserWarning: Autograd was passed a named grad tensor with dims ['C']. Autograd does not yet support named tensor semantics, so all names will be ignored. In practice all computed gradients will still be correct according to regular tensor semantics.\n"
     ]
    },
    {
     "data": {
      "text/plain": [
       "tensor([-0.4033, -0.8380, -0.7193])"
      ]
     },
     "execution_count": 7,
     "metadata": {},
     "output_type": "execute_result"
    }
   ],
   "source": [
    "weight.grad.zero_()\n",
    "grad_loss = grad_loss.refine_names('C')\n",
    "loss = (x - weight).abs()\n",
    "# Ideally we'd check that the names of loss and grad_loss match but we don't yet.\n",
    "loss.backward(grad_loss)\n",
    "weight.grad"
   ]
  },
  {
   "cell_type": "code",
   "execution_count": null,
   "metadata": {},
   "outputs": [],
   "source": []
  }
 ],
 "metadata": {
  "kernelspec": {
   "display_name": "Python 3",
   "language": "python",
   "name": "python3"
  },
  "language_info": {
   "codemirror_mode": {
    "name": "ipython",
    "version": 3
   },
   "file_extension": ".py",
   "mimetype": "text/x-python",
   "name": "python",
   "nbconvert_exporter": "python",
   "pygments_lexer": "ipython3",
   "version": "3.7.3"
  }
 },
 "nbformat": 4,
 "nbformat_minor": 2
}
