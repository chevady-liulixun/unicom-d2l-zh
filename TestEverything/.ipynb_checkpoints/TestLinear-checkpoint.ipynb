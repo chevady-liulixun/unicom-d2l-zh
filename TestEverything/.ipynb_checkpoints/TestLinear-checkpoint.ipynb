{
 "cells": [
  {
   "cell_type": "code",
   "execution_count": 5,
   "metadata": {
    "ExecuteTime": {
     "end_time": "2019-10-20T12:03:32.679841Z",
     "start_time": "2019-10-20T12:03:32.653155Z"
    }
   },
   "outputs": [],
   "source": [
    "import torch.nn as nn"
   ]
  },
  {
   "cell_type": "code",
   "execution_count": 6,
   "metadata": {
    "ExecuteTime": {
     "end_time": "2019-10-20T12:03:33.841009Z",
     "start_time": "2019-10-20T12:03:33.740717Z"
    }
   },
   "outputs": [],
   "source": [
    "m = nn.Linear(20, 30)"
   ]
  },
  {
   "cell_type": "code",
   "execution_count": 7,
   "metadata": {
    "ExecuteTime": {
     "end_time": "2019-10-20T12:03:55.895196Z",
     "start_time": "2019-10-20T12:03:55.873439Z"
    }
   },
   "outputs": [],
   "source": [
    "input = torch.randn(128, 20)"
   ]
  },
  {
   "cell_type": "code",
   "execution_count": 16,
   "metadata": {
    "ExecuteTime": {
     "end_time": "2019-10-20T12:22:28.764751Z",
     "start_time": "2019-10-20T12:22:28.733502Z"
    }
   },
   "outputs": [
    {
     "name": "stdout",
     "output_type": "stream",
     "text": [
      "input: torch.Size([128, 20])\n"
     ]
    }
   ],
   "source": [
    "print('input:', input.size())"
   ]
  },
  {
   "cell_type": "code",
   "execution_count": 12,
   "metadata": {
    "ExecuteTime": {
     "end_time": "2019-10-20T12:06:02.624778Z",
     "start_time": "2019-10-20T12:06:02.597414Z"
    }
   },
   "outputs": [
    {
     "name": "stdout",
     "output_type": "stream",
     "text": [
      "tensor([-1.9884,  1.2523,  0.4521, -0.9925, -0.6570, -2.2315, -1.5095,  0.7341,\n",
      "        -1.1578, -0.4766, -1.0106, -1.2384,  0.1168, -0.2941,  0.1552, -0.4746,\n",
      "         0.5788,  0.1652, -0.3289, -1.5264])\n"
     ]
    }
   ],
   "source": [
    "print(input[0, :])"
   ]
  },
  {
   "cell_type": "code",
   "execution_count": 11,
   "metadata": {
    "ExecuteTime": {
     "end_time": "2019-10-20T12:05:28.856563Z",
     "start_time": "2019-10-20T12:05:28.843599Z"
    }
   },
   "outputs": [
    {
     "name": "stdout",
     "output_type": "stream",
     "text": [
      "Linear(in_features=20, out_features=30, bias=True)\n"
     ]
    }
   ],
   "source": [
    "print(m)"
   ]
  },
  {
   "cell_type": "code",
   "execution_count": 13,
   "metadata": {
    "ExecuteTime": {
     "end_time": "2019-10-20T12:06:33.872693Z",
     "start_time": "2019-10-20T12:06:33.803841Z"
    }
   },
   "outputs": [],
   "source": [
    "output = m(input)"
   ]
  },
  {
   "cell_type": "code",
   "execution_count": 14,
   "metadata": {
    "ExecuteTime": {
     "end_time": "2019-10-20T12:06:46.398303Z",
     "start_time": "2019-10-20T12:06:46.367053Z"
    }
   },
   "outputs": [
    {
     "name": "stdout",
     "output_type": "stream",
     "text": [
      "torch.Size([128, 30])\n"
     ]
    }
   ],
   "source": [
    "print(output.size())"
   ]
  },
  {
   "cell_type": "code",
   "execution_count": 17,
   "metadata": {
    "ExecuteTime": {
     "end_time": "2019-10-20T12:24:04.385068Z",
     "start_time": "2019-10-20T12:24:04.353820Z"
    }
   },
   "outputs": [
    {
     "name": "stdout",
     "output_type": "stream",
     "text": [
      "w:  torch.Size([30, 20])\n"
     ]
    }
   ],
   "source": [
    "print('w: ', m.weight.shape)"
   ]
  },
  {
   "cell_type": "code",
   "execution_count": 18,
   "metadata": {
    "ExecuteTime": {
     "end_time": "2019-10-20T12:24:21.860439Z",
     "start_time": "2019-10-20T12:24:21.820845Z"
    }
   },
   "outputs": [
    {
     "name": "stdout",
     "output_type": "stream",
     "text": [
      "b:  torch.Size([30])\n"
     ]
    }
   ],
   "source": [
    "print('b: ', m.bias.shape)"
   ]
  },
  {
   "cell_type": "code",
   "execution_count": null,
   "metadata": {},
   "outputs": [],
   "source": []
  }
 ],
 "metadata": {
  "kernelspec": {
   "display_name": "Python 3",
   "language": "python",
   "name": "python3"
  },
  "language_info": {
   "codemirror_mode": {
    "name": "ipython",
    "version": 3
   },
   "file_extension": ".py",
   "mimetype": "text/x-python",
   "name": "python",
   "nbconvert_exporter": "python",
   "pygments_lexer": "ipython3",
   "version": "3.7.3"
  }
 },
 "nbformat": 4,
 "nbformat_minor": 2
}
