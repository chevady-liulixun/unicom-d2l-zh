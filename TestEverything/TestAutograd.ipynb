{
 "cells": [
  {
   "cell_type": "markdown",
   "metadata": {},
   "source": [
    "![](images/cs231-l4-bp.png)"
   ]
  },
  {
   "cell_type": "code",
   "execution_count": 1,
   "metadata": {
    "ExecuteTime": {
     "end_time": "2019-10-26T09:11:01.229136Z",
     "start_time": "2019-10-26T09:10:59.918564Z"
    }
   },
   "outputs": [],
   "source": [
    "import torch"
   ]
  },
  {
   "cell_type": "code",
   "execution_count": null,
   "metadata": {
    "ExecuteTime": {
     "end_time": "2019-10-26T07:38:48.474656Z",
     "start_time": "2019-10-26T07:38:48.407057Z"
    }
   },
   "outputs": [],
   "source": [
    "w = torch.tensor([[0.1, 0.5],[-0.3, 0.8]], requires_grad=True)\n",
    "w"
   ]
  },
  {
   "cell_type": "code",
   "execution_count": null,
   "metadata": {
    "ExecuteTime": {
     "end_time": "2019-10-26T07:38:49.474875Z",
     "start_time": "2019-10-26T07:38:49.445810Z"
    }
   },
   "outputs": [],
   "source": [
    "print(w.grad)"
   ]
  },
  {
   "cell_type": "code",
   "execution_count": null,
   "metadata": {
    "ExecuteTime": {
     "end_time": "2019-10-26T07:38:50.089066Z",
     "start_time": "2019-10-26T07:38:50.056282Z"
    }
   },
   "outputs": [],
   "source": [
    "x = torch.tensor([0.2, 0.4], requires_grad=True)\n",
    "x"
   ]
  },
  {
   "cell_type": "code",
   "execution_count": null,
   "metadata": {
    "ExecuteTime": {
     "end_time": "2019-10-26T07:38:52.256952Z",
     "start_time": "2019-10-26T07:38:52.228812Z"
    }
   },
   "outputs": [],
   "source": [
    "print(w.grad)"
   ]
  },
  {
   "cell_type": "code",
   "execution_count": null,
   "metadata": {
    "ExecuteTime": {
     "end_time": "2019-10-26T07:38:52.724922Z",
     "start_time": "2019-10-26T07:38:52.686834Z"
    }
   },
   "outputs": [],
   "source": [
    "print(x.shape, w.shape)"
   ]
  },
  {
   "cell_type": "code",
   "execution_count": null,
   "metadata": {
    "ExecuteTime": {
     "end_time": "2019-10-26T07:38:52.923353Z",
     "start_time": "2019-10-26T07:38:52.898280Z"
    }
   },
   "outputs": [],
   "source": [
    "q = torch.matmul(w, x)\n",
    "q"
   ]
  },
  {
   "cell_type": "code",
   "execution_count": null,
   "metadata": {
    "ExecuteTime": {
     "end_time": "2019-10-26T07:38:53.117190Z",
     "start_time": "2019-10-26T07:38:53.087126Z"
    }
   },
   "outputs": [],
   "source": [
    "print(w.grad)"
   ]
  },
  {
   "cell_type": "code",
   "execution_count": null,
   "metadata": {
    "ExecuteTime": {
     "end_time": "2019-10-26T07:38:53.388819Z",
     "start_time": "2019-10-26T07:38:53.363656Z"
    }
   },
   "outputs": [],
   "source": [
    "f = torch.pow(torch.norm(q), 2)\n",
    "print(f)"
   ]
  },
  {
   "cell_type": "code",
   "execution_count": null,
   "metadata": {
    "ExecuteTime": {
     "end_time": "2019-10-26T07:38:53.527719Z",
     "start_time": "2019-10-26T07:38:53.497248Z"
    }
   },
   "outputs": [],
   "source": [
    "print(x.requires_grad)"
   ]
  },
  {
   "cell_type": "code",
   "execution_count": null,
   "metadata": {
    "ExecuteTime": {
     "end_time": "2019-10-26T07:38:55.425623Z",
     "start_time": "2019-10-26T07:38:55.401512Z"
    }
   },
   "outputs": [],
   "source": [
    "print(w.requires_grad)"
   ]
  },
  {
   "cell_type": "code",
   "execution_count": null,
   "metadata": {
    "ExecuteTime": {
     "end_time": "2019-10-26T07:38:55.657279Z",
     "start_time": "2019-10-26T07:38:55.626685Z"
    }
   },
   "outputs": [],
   "source": [
    "f.backward()"
   ]
  },
  {
   "cell_type": "code",
   "execution_count": null,
   "metadata": {
    "ExecuteTime": {
     "end_time": "2019-10-26T07:38:57.139777Z",
     "start_time": "2019-10-26T07:38:57.112356Z"
    }
   },
   "outputs": [],
   "source": [
    "print(x.grad)"
   ]
  },
  {
   "cell_type": "code",
   "execution_count": null,
   "metadata": {
    "ExecuteTime": {
     "end_time": "2019-10-26T07:38:57.374625Z",
     "start_time": "2019-10-26T07:38:57.347977Z"
    },
    "scrolled": true
   },
   "outputs": [],
   "source": [
    "print(w.grad)"
   ]
  },
  {
   "cell_type": "markdown",
   "metadata": {},
   "source": [
    "再次开始一个求导过程之前，需要将已有的梯度清零，否则它将以原值参加新的运算，而导致结果不正确。"
   ]
  },
  {
   "cell_type": "code",
   "execution_count": null,
   "metadata": {
    "ExecuteTime": {
     "end_time": "2019-10-26T07:38:59.628740Z",
     "start_time": "2019-10-26T07:38:59.604504Z"
    }
   },
   "outputs": [],
   "source": [
    "w.grad.data.zero_()\n",
    "w.grad"
   ]
  },
  {
   "cell_type": "code",
   "execution_count": null,
   "metadata": {
    "ExecuteTime": {
     "end_time": "2019-10-26T07:39:01.447744Z",
     "start_time": "2019-10-26T07:39:01.407441Z"
    }
   },
   "outputs": [],
   "source": [
    "d = torch.mean(w)\n",
    "d.backward()\n",
    "print(w.grad)"
   ]
  },
  {
   "cell_type": "markdown",
   "metadata": {},
   "source": [
    "张量对张量的求导"
   ]
  },
  {
   "cell_type": "code",
   "execution_count": 2,
   "metadata": {
    "ExecuteTime": {
     "end_time": "2019-10-26T09:11:07.082785Z",
     "start_time": "2019-10-26T09:11:07.040884Z"
    }
   },
   "outputs": [
    {
     "data": {
      "text/plain": [
       "tensor([0., 1., 2.], dtype=torch.float64)"
      ]
     },
     "execution_count": 2,
     "metadata": {},
     "output_type": "execute_result"
    }
   ],
   "source": [
    "x = torch.arange(3, dtype=torch.float64)\n",
    "x"
   ]
  },
  {
   "cell_type": "code",
   "execution_count": 3,
   "metadata": {
    "ExecuteTime": {
     "end_time": "2019-10-26T09:11:09.447188Z",
     "start_time": "2019-10-26T09:11:09.427285Z"
    }
   },
   "outputs": [
    {
     "data": {
      "text/plain": [
       "tensor([0., 1., 2.], dtype=torch.float64, requires_grad=True)"
      ]
     },
     "execution_count": 3,
     "metadata": {},
     "output_type": "execute_result"
    }
   ],
   "source": [
    "x.requires_grad_(True)"
   ]
  },
  {
   "cell_type": "code",
   "execution_count": 4,
   "metadata": {
    "ExecuteTime": {
     "end_time": "2019-10-26T09:11:11.773850Z",
     "start_time": "2019-10-26T09:11:11.746783Z"
    }
   },
   "outputs": [
    {
     "data": {
      "text/plain": [
       "tensor([2., 3., 4.], dtype=torch.float64, grad_fn=<AddBackward0>)"
      ]
     },
     "execution_count": 4,
     "metadata": {},
     "output_type": "execute_result"
    }
   ],
   "source": [
    "y = x + 2\n",
    "y"
   ]
  },
  {
   "cell_type": "code",
   "execution_count": 5,
   "metadata": {
    "ExecuteTime": {
     "end_time": "2019-10-26T09:11:14.908083Z",
     "start_time": "2019-10-26T09:11:14.895329Z"
    }
   },
   "outputs": [],
   "source": [
    "z = 2 * y "
   ]
  },
  {
   "cell_type": "code",
   "execution_count": 6,
   "metadata": {
    "ExecuteTime": {
     "end_time": "2019-10-26T09:11:15.676138Z",
     "start_time": "2019-10-26T09:11:15.653963Z"
    }
   },
   "outputs": [
    {
     "data": {
      "text/plain": [
       "tensor([4., 6., 8.], dtype=torch.float64, grad_fn=<MulBackward0>)"
      ]
     },
     "execution_count": 6,
     "metadata": {},
     "output_type": "execute_result"
    }
   ],
   "source": [
    "z"
   ]
  },
  {
   "cell_type": "code",
   "execution_count": 9,
   "metadata": {
    "ExecuteTime": {
     "end_time": "2019-10-26T09:14:21.826366Z",
     "start_time": "2019-10-26T09:14:21.787130Z"
    }
   },
   "outputs": [
    {
     "name": "stdout",
     "output_type": "stream",
     "text": [
      "tensor([1.1000, 2.0000, 1.0001], dtype=torch.float64)\n"
     ]
    }
   ],
   "source": [
    "v = torch.tensor([1.0, 1.0, 1.0], dtype=torch.float)\n",
    "y.backward(v)\n",
    "\n",
    "print(x.grad)"
   ]
  },
  {
   "cell_type": "code",
   "execution_count": 10,
   "metadata": {
    "ExecuteTime": {
     "end_time": "2019-10-26T09:14:35.268025Z",
     "start_time": "2019-10-26T09:14:35.241008Z"
    }
   },
   "outputs": [
    {
     "data": {
      "text/plain": [
       "tensor([1.1000, 2.0000, 1.0001], dtype=torch.float64)"
      ]
     },
     "execution_count": 10,
     "metadata": {},
     "output_type": "execute_result"
    }
   ],
   "source": [
    "x.grad"
   ]
  },
  {
   "cell_type": "code",
   "execution_count": null,
   "metadata": {},
   "outputs": [],
   "source": []
  }
 ],
 "metadata": {
  "kernelspec": {
   "display_name": "Python 3",
   "language": "python",
   "name": "python3"
  },
  "language_info": {
   "codemirror_mode": {
    "name": "ipython",
    "version": 3
   },
   "file_extension": ".py",
   "mimetype": "text/x-python",
   "name": "python",
   "nbconvert_exporter": "python",
   "pygments_lexer": "ipython3",
   "version": "3.7.3"
  }
 },
 "nbformat": 4,
 "nbformat_minor": 2
}
