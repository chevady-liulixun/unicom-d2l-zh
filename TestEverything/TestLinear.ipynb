{
 "cells": [
  {
   "cell_type": "code",
   "execution_count": 8,
   "metadata": {
    "ExecuteTime": {
     "end_time": "2019-10-20T13:00:37.122604Z",
     "start_time": "2019-10-20T13:00:37.105654Z"
    }
   },
   "outputs": [],
   "source": [
    "import torch \n",
    "import torch.nn as nn"
   ]
  },
  {
   "cell_type": "code",
   "execution_count": 9,
   "metadata": {
    "ExecuteTime": {
     "end_time": "2019-10-20T13:00:37.961363Z",
     "start_time": "2019-10-20T13:00:37.944408Z"
    }
   },
   "outputs": [],
   "source": [
    "m = nn.Linear(2, 3)"
   ]
  },
  {
   "cell_type": "code",
   "execution_count": 10,
   "metadata": {
    "ExecuteTime": {
     "end_time": "2019-10-20T13:00:39.158162Z",
     "start_time": "2019-10-20T13:00:39.121262Z"
    }
   },
   "outputs": [],
   "source": [
    "input = torch.randn(8, 2)"
   ]
  },
  {
   "cell_type": "code",
   "execution_count": 11,
   "metadata": {
    "ExecuteTime": {
     "end_time": "2019-10-20T13:00:44.111002Z",
     "start_time": "2019-10-20T13:00:44.086068Z"
    }
   },
   "outputs": [
    {
     "name": "stdout",
     "output_type": "stream",
     "text": [
      "input: torch.Size([8, 2])\n"
     ]
    }
   ],
   "source": [
    "print('input:', input.size())"
   ]
  },
  {
   "cell_type": "code",
   "execution_count": 12,
   "metadata": {
    "ExecuteTime": {
     "end_time": "2019-10-20T13:00:52.808011Z",
     "start_time": "2019-10-20T13:00:52.656417Z"
    }
   },
   "outputs": [
    {
     "name": "stdout",
     "output_type": "stream",
     "text": [
      "tensor([[ 1.5215, -1.1060],\n",
      "        [-0.5689,  0.0728],\n",
      "        [-0.9207,  0.2406],\n",
      "        [-0.1075,  0.3784],\n",
      "        [-0.7881, -1.4694],\n",
      "        [-1.7660,  1.2782],\n",
      "        [ 0.0765,  0.9174],\n",
      "        [ 0.1170,  0.7672]])\n"
     ]
    }
   ],
   "source": [
    "print(input)"
   ]
  },
  {
   "cell_type": "code",
   "execution_count": 13,
   "metadata": {
    "ExecuteTime": {
     "end_time": "2019-10-20T13:00:59.517883Z",
     "start_time": "2019-10-20T13:00:59.486645Z"
    }
   },
   "outputs": [
    {
     "name": "stdout",
     "output_type": "stream",
     "text": [
      "Linear(in_features=2, out_features=3, bias=True)\n"
     ]
    }
   ],
   "source": [
    "print(m)"
   ]
  },
  {
   "cell_type": "code",
   "execution_count": 14,
   "metadata": {
    "ExecuteTime": {
     "end_time": "2019-10-20T13:01:04.105961Z",
     "start_time": "2019-10-20T13:01:04.037011Z"
    }
   },
   "outputs": [],
   "source": [
    "output = m(input)"
   ]
  },
  {
   "cell_type": "code",
   "execution_count": 15,
   "metadata": {
    "ExecuteTime": {
     "end_time": "2019-10-20T13:01:05.324972Z",
     "start_time": "2019-10-20T13:01:05.292697Z"
    }
   },
   "outputs": [
    {
     "name": "stdout",
     "output_type": "stream",
     "text": [
      "torch.Size([8, 3])\n"
     ]
    }
   ],
   "source": [
    "print(output.size())"
   ]
  },
  {
   "cell_type": "code",
   "execution_count": 16,
   "metadata": {
    "ExecuteTime": {
     "end_time": "2019-10-20T13:01:08.774431Z",
     "start_time": "2019-10-20T13:01:08.728694Z"
    }
   },
   "outputs": [
    {
     "name": "stdout",
     "output_type": "stream",
     "text": [
      "w:  torch.Size([3, 2])\n"
     ]
    }
   ],
   "source": [
    "print('w: ', m.weight.shape)"
   ]
  },
  {
   "cell_type": "code",
   "execution_count": 17,
   "metadata": {
    "ExecuteTime": {
     "end_time": "2019-10-20T13:01:10.052046Z",
     "start_time": "2019-10-20T13:01:10.016886Z"
    }
   },
   "outputs": [
    {
     "name": "stdout",
     "output_type": "stream",
     "text": [
      "b:  torch.Size([3])\n"
     ]
    }
   ],
   "source": [
    "print('b: ', m.bias.shape)"
   ]
  },
  {
   "cell_type": "code",
   "execution_count": null,
   "metadata": {},
   "outputs": [],
   "source": []
  }
 ],
 "metadata": {
  "kernelspec": {
   "display_name": "Python 3",
   "language": "python",
   "name": "python3"
  },
  "language_info": {
   "codemirror_mode": {
    "name": "ipython",
    "version": 3
   },
   "file_extension": ".py",
   "mimetype": "text/x-python",
   "name": "python",
   "nbconvert_exporter": "python",
   "pygments_lexer": "ipython3",
   "version": "3.7.3"
  }
 },
 "nbformat": 4,
 "nbformat_minor": 2
}
