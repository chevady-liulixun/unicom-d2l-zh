{
 "cells": [
  {
   "cell_type": "code",
   "execution_count": 1,
   "metadata": {
    "ExecuteTime": {
     "end_time": "2019-11-17T05:25:12.969013Z",
     "start_time": "2019-11-17T05:25:10.889479Z"
    }
   },
   "outputs": [],
   "source": [
    "import torch \n",
    "import torch.nn as nn"
   ]
  },
  {
   "cell_type": "code",
   "execution_count": 2,
   "metadata": {
    "ExecuteTime": {
     "end_time": "2019-11-17T05:25:14.913041Z",
     "start_time": "2019-11-17T05:25:14.852929Z"
    }
   },
   "outputs": [],
   "source": [
    "m = nn.Linear(2, 3)"
   ]
  },
  {
   "cell_type": "code",
   "execution_count": 3,
   "metadata": {
    "ExecuteTime": {
     "end_time": "2019-11-17T05:25:26.071271Z",
     "start_time": "2019-11-17T05:25:26.027820Z"
    }
   },
   "outputs": [],
   "source": [
    "input = torch.randn(8, 2)"
   ]
  },
  {
   "cell_type": "code",
   "execution_count": 4,
   "metadata": {
    "ExecuteTime": {
     "end_time": "2019-11-17T05:25:37.079129Z",
     "start_time": "2019-11-17T05:25:37.047882Z"
    }
   },
   "outputs": [
    {
     "name": "stdout",
     "output_type": "stream",
     "text": [
      "input: torch.Size([8, 2])\n"
     ]
    }
   ],
   "source": [
    "print('input:', input.size())"
   ]
  },
  {
   "cell_type": "code",
   "execution_count": 5,
   "metadata": {
    "ExecuteTime": {
     "end_time": "2019-11-17T05:25:41.613042Z",
     "start_time": "2019-11-17T05:25:41.473542Z"
    }
   },
   "outputs": [
    {
     "name": "stdout",
     "output_type": "stream",
     "text": [
      "tensor([[-0.3670,  0.0282],\n",
      "        [-2.9918,  1.2722],\n",
      "        [-0.4045,  0.6139],\n",
      "        [-1.0617, -1.0786],\n",
      "        [ 1.9954, -1.2801],\n",
      "        [ 0.5187,  0.2228],\n",
      "        [-1.1674, -0.4733],\n",
      "        [-0.9831,  0.8902]])\n"
     ]
    }
   ],
   "source": [
    "print(input)"
   ]
  },
  {
   "cell_type": "code",
   "execution_count": 6,
   "metadata": {
    "ExecuteTime": {
     "end_time": "2019-11-17T05:25:42.473343Z",
     "start_time": "2019-11-17T05:25:42.447249Z"
    }
   },
   "outputs": [
    {
     "name": "stdout",
     "output_type": "stream",
     "text": [
      "Linear(in_features=2, out_features=3, bias=True)\n"
     ]
    }
   ],
   "source": [
    "print(m)"
   ]
  },
  {
   "cell_type": "code",
   "execution_count": 7,
   "metadata": {
    "ExecuteTime": {
     "end_time": "2019-11-17T05:25:45.797101Z",
     "start_time": "2019-11-17T05:25:45.734188Z"
    }
   },
   "outputs": [],
   "source": [
    "output = m(input)"
   ]
  },
  {
   "cell_type": "code",
   "execution_count": 8,
   "metadata": {
    "ExecuteTime": {
     "end_time": "2019-11-17T05:25:49.154457Z",
     "start_time": "2019-11-17T05:25:49.117699Z"
    }
   },
   "outputs": [
    {
     "name": "stdout",
     "output_type": "stream",
     "text": [
      "torch.Size([8, 3])\n"
     ]
    }
   ],
   "source": [
    "print(output.size())"
   ]
  },
  {
   "cell_type": "code",
   "execution_count": 9,
   "metadata": {
    "ExecuteTime": {
     "end_time": "2019-11-17T05:25:52.858749Z",
     "start_time": "2019-11-17T05:25:52.822060Z"
    }
   },
   "outputs": [
    {
     "name": "stdout",
     "output_type": "stream",
     "text": [
      "w:  torch.Size([3, 2])\n"
     ]
    }
   ],
   "source": [
    "print('w: ', m.weight.shape)"
   ]
  },
  {
   "cell_type": "code",
   "execution_count": 10,
   "metadata": {
    "ExecuteTime": {
     "end_time": "2019-11-17T05:26:00.783822Z",
     "start_time": "2019-11-17T05:26:00.748056Z"
    }
   },
   "outputs": [
    {
     "name": "stdout",
     "output_type": "stream",
     "text": [
      "b:  torch.Size([3])\n"
     ]
    }
   ],
   "source": [
    "print('b: ', m.bias.shape)"
   ]
  },
  {
   "cell_type": "code",
   "execution_count": null,
   "metadata": {},
   "outputs": [],
   "source": []
  }
 ],
 "metadata": {
  "kernelspec": {
   "display_name": "Python 3",
   "language": "python",
   "name": "python3"
  },
  "language_info": {
   "codemirror_mode": {
    "name": "ipython",
    "version": 3
   },
   "file_extension": ".py",
   "mimetype": "text/x-python",
   "name": "python",
   "nbconvert_exporter": "python",
   "pygments_lexer": "ipython3",
   "version": "3.7.3"
  }
 },
 "nbformat": 4,
 "nbformat_minor": 2
}
