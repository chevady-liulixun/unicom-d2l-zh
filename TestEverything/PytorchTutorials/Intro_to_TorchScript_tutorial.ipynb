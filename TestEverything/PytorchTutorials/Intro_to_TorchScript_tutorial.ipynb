{
 "cells": [
  {
   "cell_type": "code",
   "execution_count": null,
   "metadata": {},
   "outputs": [],
   "source": [
    "%matplotlib inline"
   ]
  },
  {
   "cell_type": "markdown",
   "metadata": {},
   "source": [
    "\n",
    "Introduction to TorchScript\n",
    "===========================\n",
    "\n",
    "*James Reed (jamesreed@fb.com), Michael Suo (suo@fb.com)*, rev2\n",
    "\n",
    "This tutorial is an introduction to TorchScript, an intermediate\n",
    "representation of a PyTorch model (subclass of ``nn.Module``) that\n",
    "can then be run in a high-performance environment such as C++.\n",
    "\n",
    "In this tutorial we will cover:\n",
    "\n",
    "1. The basics of model authoring in PyTorch, including:\n",
    "\n",
    "-  Modules\n",
    "-  Defining ``forward`` functions\n",
    "-  Composing modules into a hierarchy of modules\n",
    "\n",
    "2. Specific methods for converting PyTorch modules to TorchScript, our\n",
    "   high-performance deployment runtime\n",
    "\n",
    "-  Tracing an existing module\n",
    "-  Using scripting to directly compile a module\n",
    "-  How to compose both approaches\n",
    "-  Saving and loading TorchScript modules\n",
    "\n",
    "We hope that after you complete this tutorial, you will proceed to go through\n",
    "`the follow-on tutorial <https://pytorch.org/tutorials/advanced/cpp_export.html>`_\n",
    "which will walk you through an example of actually calling a TorchScript\n",
    "model from C++.\n",
    "\n",
    "\n"
   ]
  },
  {
   "cell_type": "code",
   "execution_count": null,
   "metadata": {},
   "outputs": [],
   "source": [
    "import torch  # This is all you need to use both PyTorch and TorchScript!\n",
    "print(torch.__version__)"
   ]
  },
  {
   "cell_type": "markdown",
   "metadata": {},
   "source": [
    "Basics of PyTorch Model Authoring\n",
    "---------------------------------\n",
    "\n",
    "Let’s start out be defining a simple ``Module``. A ``Module`` is the\n",
    "basic unit of composition in PyTorch. It contains:\n",
    "\n",
    "1. A constructor, which prepares the module for invocation\n",
    "2. A set of ``Parameters`` and sub-\\ ``Modules``. These are initialized\n",
    "   by the constructor and can be used by the module during invocation.\n",
    "3. A ``forward`` function. This is the code that is run when the module\n",
    "   is invoked.\n",
    "\n",
    "Let’s examine a small example:\n",
    "\n",
    "\n"
   ]
  },
  {
   "cell_type": "code",
   "execution_count": null,
   "metadata": {},
   "outputs": [],
   "source": [
    "class MyCell(torch.nn.Module):\n",
    "    def __init__(self):\n",
    "        super(MyCell, self).__init__()\n",
    "\n",
    "    def forward(self, x, h):\n",
    "        new_h = torch.tanh(x + h)\n",
    "        return new_h, new_h\n",
    "\n",
    "my_cell = MyCell()\n",
    "x = torch.rand(3, 4)\n",
    "h = torch.rand(3, 4)\n",
    "print(my_cell(x, h))"
   ]
  },
  {
   "cell_type": "markdown",
   "metadata": {},
   "source": [
    "So we’ve:\n",
    "\n",
    "1. Created a class that subclasses ``torch.nn.Module``.\n",
    "2. Defined a constructor. The constructor doesn’t do much, just calls\n",
    "   the constructor for ``super``.\n",
    "3. Defined a ``forward`` function, which takes two inputs and returns\n",
    "   two outputs. The actual contents of the ``forward`` function are not\n",
    "   really important, but it’s sort of a fake `RNN\n",
    "   cell <https://colah.github.io/posts/2015-08-Understanding-LSTMs/>`__–that\n",
    "   is–it’s a function that is applied on a loop.\n",
    "\n",
    "We instantiated the module, and made ``x`` and ``y``, which are just 3x4\n",
    "matrices of random values. Then we invoked the cell with\n",
    "``my_cell(x, h)``. This in turn calls our ``forward`` function.\n",
    "\n",
    "Let’s do something a little more interesting:\n",
    "\n",
    "\n"
   ]
  },
  {
   "cell_type": "code",
   "execution_count": null,
   "metadata": {},
   "outputs": [],
   "source": [
    "class MyCell(torch.nn.Module):\n",
    "    def __init__(self):\n",
    "        super(MyCell, self).__init__()\n",
    "        self.linear = torch.nn.Linear(4, 4)\n",
    "\n",
    "    def forward(self, x, h):\n",
    "        new_h = torch.tanh(self.linear(x) + h)\n",
    "        return new_h, new_h\n",
    "\n",
    "my_cell = MyCell()\n",
    "print(my_cell)\n",
    "print(my_cell(x, h))"
   ]
  },
  {
   "cell_type": "markdown",
   "metadata": {},
   "source": [
    "We’ve redefined our module ``MyCell``, but this time we’ve added a\n",
    "``self.linear`` attribute, and we invoke ``self.linear`` in the forward\n",
    "function.\n",
    "\n",
    "What exactly is happening here? ``torch.nn.Linear`` is a ``Module`` from\n",
    "the PyTorch standard library. Just like ``MyCell``, it can be invoked\n",
    "using the call syntax. We are building a hierarchy of ``Module``\\ s.\n",
    "\n",
    "``print`` on a ``Module`` will give a visual representation of the\n",
    "``Module``\\ ’s subclass hierarchy. In our example, we can see our\n",
    "``Linear`` subclass and its parameters.\n",
    "\n",
    "By composing ``Module``\\ s in this way, we can succintly and readably\n",
    "author models with reusable components.\n",
    "\n",
    "You may have noticed ``grad_fn`` on the outputs. This is a detail of\n",
    "PyTorch’s method of automatic differentiation, called\n",
    "`autograd <https://pytorch.org/tutorials/beginner/blitz/autograd_tutorial.html>`__.\n",
    "In short, this system allows us to compute derivatives through\n",
    "potentially complex programs. The design allows for a massive amount of\n",
    "flexibility in model authoring.\n",
    "\n",
    "Now let’s examine said flexibility:\n",
    "\n",
    "\n"
   ]
  },
  {
   "cell_type": "code",
   "execution_count": null,
   "metadata": {},
   "outputs": [],
   "source": [
    "class MyDecisionGate(torch.nn.Module):\n",
    "    def forward(self, x):\n",
    "        if x.sum() > 0:\n",
    "            return x\n",
    "        else:\n",
    "            return -x\n",
    "\n",
    "class MyCell(torch.nn.Module):\n",
    "    def __init__(self):\n",
    "        super(MyCell, self).__init__()\n",
    "        self.dg = MyDecisionGate()\n",
    "        self.linear = torch.nn.Linear(4, 4)\n",
    "\n",
    "    def forward(self, x, h):\n",
    "        new_h = torch.tanh(self.dg(self.linear(x)) + h)\n",
    "        return new_h, new_h\n",
    "\n",
    "my_cell = MyCell()\n",
    "print(my_cell)\n",
    "print(my_cell(x, h))"
   ]
  },
  {
   "cell_type": "markdown",
   "metadata": {},
   "source": [
    "We’ve once again redefined our MyCell class, but here we’ve defined\n",
    "``MyDecisionGate``. This module utilizes **control flow**. Control flow\n",
    "consists of things like loops and ``if``-statements.\n",
    "\n",
    "Many frameworks take the approach of computing symbolic derivatives\n",
    "given a full program representation. However, in PyTorch, we use a\n",
    "gradient tape. We record operations as they occur, and replay them\n",
    "backwards in computing derivatives. In this way, the framework does not\n",
    "have to explicitly define derivatives for all constructs in the\n",
    "language.\n",
    "\n",
    "----\n",
    "![How autograd works](../images/dynamic_graph.gif)\n",
    "\n",
    "----\n",
    "<center>How autograd works</center>"
   ]
  },
  {
   "cell_type": "markdown",
   "metadata": {},
   "source": [
    "Basics of TorchScript\n",
    "---------------------\n",
    "\n",
    "Now let’s take our running example and see how we can apply TorchScript.\n",
    "\n",
    "In short, TorchScript provides tools to capture the definition of your\n",
    "model, even in light of the flexible and dynamic nature of PyTorch.\n",
    "Let’s begin by examining what we call **tracing**.\n",
    "\n",
    "Tracing ``Modules``\n",
    "~~~~~~~~~~~~~~~~~~~\n",
    "\n",
    "\n"
   ]
  },
  {
   "cell_type": "code",
   "execution_count": null,
   "metadata": {},
   "outputs": [],
   "source": [
    "class MyCell(torch.nn.Module):\n",
    "    def __init__(self):\n",
    "        super(MyCell, self).__init__()\n",
    "        self.linear = torch.nn.Linear(4, 4)\n",
    "\n",
    "    def forward(self, x, h):\n",
    "        new_h = torch.tanh(self.linear(x) + h)\n",
    "        return new_h, new_h\n",
    "\n",
    "my_cell = MyCell()\n",
    "x, h = torch.rand(3, 4), torch.rand(3, 4)\n",
    "traced_cell = torch.jit.trace(my_cell, (x, h))\n",
    "print(traced_cell)\n",
    "traced_cell(x, h)"
   ]
  },
  {
   "cell_type": "markdown",
   "metadata": {},
   "source": [
    "We’ve rewinded a bit and taken the second version of our ``MyCell``\n",
    "class. As before, we’ve instantiated it, but this time, we’ve called\n",
    "``torch.jit.trace``, passed in the ``Module``, and passed in *example\n",
    "inputs* the network might see.\n",
    "\n",
    "What exactly has this done? It has invoked the ``Module``, recorded the\n",
    "operations that occured when the ``Module`` was run, and created an\n",
    "instance of ``torch.jit.ScriptModule`` (of which ``TracedModule`` is an\n",
    "instance)\n",
    "\n",
    "TorchScript records its definitions in an Intermediate Representation\n",
    "(or IR), commonly referred to in Deep learning as a *graph*. We can\n",
    "examine the graph with the ``.graph`` property:\n",
    "\n",
    "\n"
   ]
  },
  {
   "cell_type": "code",
   "execution_count": null,
   "metadata": {},
   "outputs": [],
   "source": [
    "print(traced_cell.graph)"
   ]
  },
  {
   "cell_type": "markdown",
   "metadata": {},
   "source": [
    "However, this is a very low-level representation and most of the\n",
    "information contained in the graph is not useful for end users. Instead,\n",
    "we can use the ``.code`` property to give a Python-syntax interpretation\n",
    "of the code:\n",
    "\n",
    "\n"
   ]
  },
  {
   "cell_type": "code",
   "execution_count": null,
   "metadata": {},
   "outputs": [],
   "source": [
    "print(traced_cell.code)"
   ]
  },
  {
   "cell_type": "markdown",
   "metadata": {},
   "source": [
    "So **why** did we do all this? There are several reasons:\n",
    "\n",
    "1. TorchScript code can be invoked in its own interpreter, which is\n",
    "   basically a restricted Python interpreter. This interpreter does not\n",
    "   acquire the Global Interpreter Lock, and so many requests can be\n",
    "   processed on the same instance simultaneously.\n",
    "2. This format allows us to save the whole model to disk and load it\n",
    "   into another environment, such as in a server written in a language\n",
    "   other than Python\n",
    "3. TorchScript gives us a representation in which we can do compiler\n",
    "   optimizations on the code to provide more efficient execution\n",
    "4. TorchScript allows us to interface with many backend/device runtimes\n",
    "   that require a broader view of the program than individual operators.\n",
    "\n",
    "We can see that invoking ``traced_cell`` produces the same results as\n",
    "the Python module:\n",
    "\n",
    "\n"
   ]
  },
  {
   "cell_type": "code",
   "execution_count": null,
   "metadata": {},
   "outputs": [],
   "source": [
    "print(my_cell(x, h))\n",
    "print(traced_cell(x, h))"
   ]
  },
  {
   "cell_type": "markdown",
   "metadata": {},
   "source": [
    "Using Scripting to Convert Modules\n",
    "----------------------------------\n",
    "\n",
    "There’s a reason we used version two of our module, and not the one with\n",
    "the control-flow-laden submodule. Let’s examine that now:\n",
    "\n",
    "\n"
   ]
  },
  {
   "cell_type": "code",
   "execution_count": null,
   "metadata": {},
   "outputs": [],
   "source": [
    "class MyDecisionGate(torch.nn.Module):\n",
    "    def forward(self, x):\n",
    "        if x.sum() > 0:\n",
    "            return x\n",
    "        else:\n",
    "            return -x\n",
    "\n",
    "class MyCell(torch.nn.Module):\n",
    "    def __init__(self, dg):\n",
    "        super(MyCell, self).__init__()\n",
    "        self.dg = dg\n",
    "        self.linear = torch.nn.Linear(4, 4)\n",
    "\n",
    "    def forward(self, x, h):\n",
    "        new_h = torch.tanh(self.dg(self.linear(x)) + h)\n",
    "        return new_h, new_h\n",
    "\n",
    "my_cell = MyCell(MyDecisionGate())\n",
    "traced_cell = torch.jit.trace(my_cell, (x, h))\n",
    "print(traced_cell.code)"
   ]
  },
  {
   "cell_type": "markdown",
   "metadata": {},
   "source": [
    "Looking at the ``.code`` output, we can see that the ``if-else`` branch\n",
    "is nowhere to be found! Why? Tracing does exactly what we said it would:\n",
    "run the code, record the operations *that happen* and construct a\n",
    "ScriptModule that does exactly that. Unfortunately, things like control\n",
    "flow are erased.\n",
    "\n",
    "How can we faithfully represent this module in TorchScript? We provide a\n",
    "**script compiler**, which does direct analysis of your Python source\n",
    "code to transform it into TorchScript. Let’s convert ``MyDecisionGate``\n",
    "using the script compiler:\n",
    "\n",
    "\n"
   ]
  },
  {
   "cell_type": "code",
   "execution_count": null,
   "metadata": {},
   "outputs": [],
   "source": [
    "scripted_gate = torch.jit.script(MyDecisionGate())\n",
    "\n",
    "my_cell = MyCell(scripted_gate)\n",
    "traced_cell = torch.jit.script(my_cell)\n",
    "print(traced_cell.code)"
   ]
  },
  {
   "cell_type": "markdown",
   "metadata": {},
   "source": [
    "Hooray! We’ve now faithfully captured the behavior of our program in\n",
    "TorchScript. Let’s now try running the program:\n",
    "\n",
    "\n"
   ]
  },
  {
   "cell_type": "code",
   "execution_count": null,
   "metadata": {},
   "outputs": [],
   "source": [
    "# New inputs\n",
    "x, h = torch.rand(3, 4), torch.rand(3, 4)\n",
    "traced_cell(x, h)"
   ]
  },
  {
   "cell_type": "markdown",
   "metadata": {},
   "source": [
    "Mixing Scripting and Tracing\n",
    "~~~~~~~~~~~~~~~~~~~~~~~~~~~~\n",
    "\n",
    "Some situations call for using tracing rather than scripting (e.g. a\n",
    "module has many architectural decisions that are made based on constant\n",
    "Python values that we would like to not appear in TorchScript). In this\n",
    "case, scripting can be composed with tracing: ``torch.jit.script`` will\n",
    "inline the code for a traced module, and tracing will inline the code\n",
    "for a scripted module.\n",
    "\n",
    "An example of the first case:\n",
    "\n",
    "\n"
   ]
  },
  {
   "cell_type": "code",
   "execution_count": null,
   "metadata": {},
   "outputs": [],
   "source": [
    "class MyRNNLoop(torch.nn.Module):\n",
    "    def __init__(self):\n",
    "        super(MyRNNLoop, self).__init__()\n",
    "        self.cell = torch.jit.trace(MyCell(scripted_gate), (x, h))\n",
    "\n",
    "    def forward(self, xs):\n",
    "        h, y = torch.zeros(3, 4), torch.zeros(3, 4)\n",
    "        for i in range(xs.size(0)):\n",
    "            y, h = self.cell(xs[i], h)\n",
    "        return y, h\n",
    "\n",
    "rnn_loop = torch.jit.script(MyRNNLoop())\n",
    "print(rnn_loop.code)"
   ]
  },
  {
   "cell_type": "markdown",
   "metadata": {},
   "source": [
    "And an example of the second case:\n",
    "\n",
    "\n"
   ]
  },
  {
   "cell_type": "code",
   "execution_count": null,
   "metadata": {},
   "outputs": [],
   "source": [
    "class WrapRNN(torch.nn.Module):\n",
    "    def __init__(self):\n",
    "        super(WrapRNN, self).__init__()\n",
    "        self.loop = torch.jit.script(MyRNNLoop())\n",
    "\n",
    "    def forward(self, xs):\n",
    "        y, h = self.loop(xs)\n",
    "        return torch.relu(y)\n",
    "\n",
    "traced = torch.jit.trace(WrapRNN(), (torch.rand(10, 3, 4)))\n",
    "print(traced.code)"
   ]
  },
  {
   "cell_type": "markdown",
   "metadata": {},
   "source": [
    "This way, scripting and tracing can be used when the situation calls for\n",
    "each of them and used together.\n",
    "\n",
    "Saving and Loading models\n",
    "-------------------------\n",
    "\n",
    "We provide APIs to save and load TorchScript modules to/from disk in an\n",
    "archive format. This format includes code, parameters, attributes, and\n",
    "debug information, meaning that the archive is a freestanding\n",
    "representation of the model that can be loaded in an entirely separate\n",
    "process. Let’s save and load our wrapped RNN module:\n",
    "\n",
    "\n"
   ]
  },
  {
   "cell_type": "code",
   "execution_count": null,
   "metadata": {},
   "outputs": [],
   "source": [
    "traced.save('wrapped_rnn.zip')\n",
    "\n",
    "loaded = torch.jit.load('wrapped_rnn.zip')\n",
    "\n",
    "print(loaded)\n",
    "print(loaded.code)"
   ]
  },
  {
   "cell_type": "markdown",
   "metadata": {},
   "source": [
    "As you can see, serialization preserves the module hierarchy and the\n",
    "code we’ve been examining throughout. The model can also be loaded, for\n",
    "example, `into\n",
    "C++ <https://pytorch.org/tutorials/advanced/cpp_export.html>`__ for\n",
    "python-free execution.\n",
    "\n",
    "Further Reading\n",
    "~~~~~~~~~~~~~~~\n",
    "\n",
    "We’ve completed our tutorial! For a more involved demonstration, check\n",
    "out the NeurIPS demo for converting machine translation models using\n",
    "TorchScript:\n",
    "https://colab.research.google.com/drive/1HiICg6jRkBnr5hvK2-VnMi88Vi9pUzEJ\n",
    "\n",
    "\n"
   ]
  }
 ],
 "metadata": {
  "kernelspec": {
   "display_name": "Python 3",
   "language": "python",
   "name": "python3"
  },
  "language_info": {
   "codemirror_mode": {
    "name": "ipython",
    "version": 3
   },
   "file_extension": ".py",
   "mimetype": "text/x-python",
   "name": "python",
   "nbconvert_exporter": "python",
   "pygments_lexer": "ipython3",
   "version": "3.7.3"
  }
 },
 "nbformat": 4,
 "nbformat_minor": 1
}
